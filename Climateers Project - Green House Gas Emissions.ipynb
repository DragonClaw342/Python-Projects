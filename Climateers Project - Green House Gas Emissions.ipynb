{
 "cells": [
  {
   "cell_type": "markdown",
   "metadata": {},
   "source": [
    "# Climateers (Group 9) Climate Change Project - Green House Gas Emissions"
   ]
  },
  {
   "cell_type": "markdown",
   "metadata": {},
   "source": [
    "### Author: Máté István Kemenczés"
   ]
  },
  {
   "cell_type": "markdown",
   "metadata": {},
   "source": [
    "### Source: Kaggle Green House Gas Emissions Dataset \n",
    "https://www.kaggle.com/srikantsahu/co2-and-ghg-emission-data"
   ]
  },
  {
   "cell_type": "markdown",
   "metadata": {},
   "source": [
    "#### 1. Importing Necessary Python Libraries, and the Data, plus some basic inspection"
   ]
  },
  {
   "cell_type": "code",
   "execution_count": 2,
   "metadata": {},
   "outputs": [],
   "source": [
    "%matplotlib inline\n",
    "\n",
    "import numpy as np\n",
    "import pandas as pd\n",
    "import matplotlib.pyplot as plt"
   ]
  },
  {
   "cell_type": "code",
   "execution_count": 3,
   "metadata": {},
   "outputs": [],
   "source": [
    "greenhouse = pd.read_csv('emission data.csv')"
   ]
  },
  {
   "cell_type": "code",
   "execution_count": 4,
   "metadata": {},
   "outputs": [
    {
     "data": {
      "text/html": [
       "<div>\n",
       "<style scoped>\n",
       "    .dataframe tbody tr th:only-of-type {\n",
       "        vertical-align: middle;\n",
       "    }\n",
       "\n",
       "    .dataframe tbody tr th {\n",
       "        vertical-align: top;\n",
       "    }\n",
       "\n",
       "    .dataframe thead th {\n",
       "        text-align: right;\n",
       "    }\n",
       "</style>\n",
       "<table border=\"1\" class=\"dataframe\">\n",
       "  <thead>\n",
       "    <tr style=\"text-align: right;\">\n",
       "      <th></th>\n",
       "      <th>Country</th>\n",
       "      <th>1751</th>\n",
       "      <th>1752</th>\n",
       "      <th>1753</th>\n",
       "      <th>1754</th>\n",
       "      <th>1755</th>\n",
       "      <th>1756</th>\n",
       "      <th>1757</th>\n",
       "      <th>1758</th>\n",
       "      <th>1759</th>\n",
       "      <th>...</th>\n",
       "      <th>2008</th>\n",
       "      <th>2009</th>\n",
       "      <th>2010</th>\n",
       "      <th>2011</th>\n",
       "      <th>2012</th>\n",
       "      <th>2013</th>\n",
       "      <th>2014</th>\n",
       "      <th>2015</th>\n",
       "      <th>2016</th>\n",
       "      <th>2017</th>\n",
       "    </tr>\n",
       "  </thead>\n",
       "  <tbody>\n",
       "    <tr>\n",
       "      <td>0</td>\n",
       "      <td>Afghanistan</td>\n",
       "      <td>0</td>\n",
       "      <td>0</td>\n",
       "      <td>0</td>\n",
       "      <td>0</td>\n",
       "      <td>0</td>\n",
       "      <td>0</td>\n",
       "      <td>0</td>\n",
       "      <td>0</td>\n",
       "      <td>0</td>\n",
       "      <td>...</td>\n",
       "      <td>8.515264e+07</td>\n",
       "      <td>9.191295e+07</td>\n",
       "      <td>1.003652e+08</td>\n",
       "      <td>1.125912e+08</td>\n",
       "      <td>1.233332e+08</td>\n",
       "      <td>1.333337e+08</td>\n",
       "      <td>1.431228e+08</td>\n",
       "      <td>1.532303e+08</td>\n",
       "      <td>1.654882e+08</td>\n",
       "      <td>1.785029e+08</td>\n",
       "    </tr>\n",
       "    <tr>\n",
       "      <td>1</td>\n",
       "      <td>Africa</td>\n",
       "      <td>0</td>\n",
       "      <td>0</td>\n",
       "      <td>0</td>\n",
       "      <td>0</td>\n",
       "      <td>0</td>\n",
       "      <td>0</td>\n",
       "      <td>0</td>\n",
       "      <td>0</td>\n",
       "      <td>0</td>\n",
       "      <td>...</td>\n",
       "      <td>3.183077e+10</td>\n",
       "      <td>3.301904e+10</td>\n",
       "      <td>3.421283e+10</td>\n",
       "      <td>3.541120e+10</td>\n",
       "      <td>3.664504e+10</td>\n",
       "      <td>3.789569e+10</td>\n",
       "      <td>3.918617e+10</td>\n",
       "      <td>4.047518e+10</td>\n",
       "      <td>4.178583e+10</td>\n",
       "      <td>4.311757e+10</td>\n",
       "    </tr>\n",
       "    <tr>\n",
       "      <td>2</td>\n",
       "      <td>Albania</td>\n",
       "      <td>0</td>\n",
       "      <td>0</td>\n",
       "      <td>0</td>\n",
       "      <td>0</td>\n",
       "      <td>0</td>\n",
       "      <td>0</td>\n",
       "      <td>0</td>\n",
       "      <td>0</td>\n",
       "      <td>0</td>\n",
       "      <td>...</td>\n",
       "      <td>2.287948e+08</td>\n",
       "      <td>2.331696e+08</td>\n",
       "      <td>2.377643e+08</td>\n",
       "      <td>2.430001e+08</td>\n",
       "      <td>2.479062e+08</td>\n",
       "      <td>2.529662e+08</td>\n",
       "      <td>2.586784e+08</td>\n",
       "      <td>2.646261e+08</td>\n",
       "      <td>2.708990e+08</td>\n",
       "      <td>2.772782e+08</td>\n",
       "    </tr>\n",
       "    <tr>\n",
       "      <td>3</td>\n",
       "      <td>Algeria</td>\n",
       "      <td>0</td>\n",
       "      <td>0</td>\n",
       "      <td>0</td>\n",
       "      <td>0</td>\n",
       "      <td>0</td>\n",
       "      <td>0</td>\n",
       "      <td>0</td>\n",
       "      <td>0</td>\n",
       "      <td>0</td>\n",
       "      <td>...</td>\n",
       "      <td>2.894820e+09</td>\n",
       "      <td>3.015005e+09</td>\n",
       "      <td>3.132819e+09</td>\n",
       "      <td>3.252626e+09</td>\n",
       "      <td>3.380736e+09</td>\n",
       "      <td>3.513171e+09</td>\n",
       "      <td>3.656348e+09</td>\n",
       "      <td>3.806940e+09</td>\n",
       "      <td>3.957319e+09</td>\n",
       "      <td>4.107870e+09</td>\n",
       "    </tr>\n",
       "    <tr>\n",
       "      <td>4</td>\n",
       "      <td>Americas (other)</td>\n",
       "      <td>0</td>\n",
       "      <td>0</td>\n",
       "      <td>0</td>\n",
       "      <td>0</td>\n",
       "      <td>0</td>\n",
       "      <td>0</td>\n",
       "      <td>0</td>\n",
       "      <td>0</td>\n",
       "      <td>0</td>\n",
       "      <td>...</td>\n",
       "      <td>7.746025e+10</td>\n",
       "      <td>7.961787e+10</td>\n",
       "      <td>8.187178e+10</td>\n",
       "      <td>8.416656e+10</td>\n",
       "      <td>8.654197e+10</td>\n",
       "      <td>8.894874e+10</td>\n",
       "      <td>9.139192e+10</td>\n",
       "      <td>9.382747e+10</td>\n",
       "      <td>9.624253e+10</td>\n",
       "      <td>9.864116e+10</td>\n",
       "    </tr>\n",
       "    <tr>\n",
       "      <td>...</td>\n",
       "      <td>...</td>\n",
       "      <td>...</td>\n",
       "      <td>...</td>\n",
       "      <td>...</td>\n",
       "      <td>...</td>\n",
       "      <td>...</td>\n",
       "      <td>...</td>\n",
       "      <td>...</td>\n",
       "      <td>...</td>\n",
       "      <td>...</td>\n",
       "      <td>...</td>\n",
       "      <td>...</td>\n",
       "      <td>...</td>\n",
       "      <td>...</td>\n",
       "      <td>...</td>\n",
       "      <td>...</td>\n",
       "      <td>...</td>\n",
       "      <td>...</td>\n",
       "      <td>...</td>\n",
       "      <td>...</td>\n",
       "      <td>...</td>\n",
       "    </tr>\n",
       "    <tr>\n",
       "      <td>226</td>\n",
       "      <td>Wallis and Futuna Islands</td>\n",
       "      <td>0</td>\n",
       "      <td>0</td>\n",
       "      <td>0</td>\n",
       "      <td>0</td>\n",
       "      <td>0</td>\n",
       "      <td>0</td>\n",
       "      <td>0</td>\n",
       "      <td>0</td>\n",
       "      <td>0</td>\n",
       "      <td>...</td>\n",
       "      <td>2.015200e+05</td>\n",
       "      <td>2.308320e+05</td>\n",
       "      <td>2.601440e+05</td>\n",
       "      <td>2.857920e+05</td>\n",
       "      <td>3.114400e+05</td>\n",
       "      <td>3.334240e+05</td>\n",
       "      <td>3.554080e+05</td>\n",
       "      <td>3.793990e+05</td>\n",
       "      <td>4.036640e+05</td>\n",
       "      <td>4.295730e+05</td>\n",
       "    </tr>\n",
       "    <tr>\n",
       "      <td>227</td>\n",
       "      <td>World</td>\n",
       "      <td>9350528</td>\n",
       "      <td>18704720</td>\n",
       "      <td>28058912</td>\n",
       "      <td>37416768</td>\n",
       "      <td>46778288</td>\n",
       "      <td>56784672</td>\n",
       "      <td>66794720</td>\n",
       "      <td>76808432</td>\n",
       "      <td>86825808</td>\n",
       "      <td>...</td>\n",
       "      <td>1.260000e+12</td>\n",
       "      <td>1.290000e+12</td>\n",
       "      <td>1.330000e+12</td>\n",
       "      <td>1.360000e+12</td>\n",
       "      <td>1.400000e+12</td>\n",
       "      <td>1.430000e+12</td>\n",
       "      <td>1.470000e+12</td>\n",
       "      <td>1.500000e+12</td>\n",
       "      <td>1.540000e+12</td>\n",
       "      <td>1.580000e+12</td>\n",
       "    </tr>\n",
       "    <tr>\n",
       "      <td>228</td>\n",
       "      <td>Yemen</td>\n",
       "      <td>0</td>\n",
       "      <td>0</td>\n",
       "      <td>0</td>\n",
       "      <td>0</td>\n",
       "      <td>0</td>\n",
       "      <td>0</td>\n",
       "      <td>0</td>\n",
       "      <td>0</td>\n",
       "      <td>0</td>\n",
       "      <td>...</td>\n",
       "      <td>4.285533e+08</td>\n",
       "      <td>4.528009e+08</td>\n",
       "      <td>4.759527e+08</td>\n",
       "      <td>4.954658e+08</td>\n",
       "      <td>5.137040e+08</td>\n",
       "      <td>5.386844e+08</td>\n",
       "      <td>5.609470e+08</td>\n",
       "      <td>5.813316e+08</td>\n",
       "      <td>6.004670e+08</td>\n",
       "      <td>6.194328e+08</td>\n",
       "    </tr>\n",
       "    <tr>\n",
       "      <td>229</td>\n",
       "      <td>Zambia</td>\n",
       "      <td>0</td>\n",
       "      <td>0</td>\n",
       "      <td>0</td>\n",
       "      <td>0</td>\n",
       "      <td>0</td>\n",
       "      <td>0</td>\n",
       "      <td>0</td>\n",
       "      <td>0</td>\n",
       "      <td>0</td>\n",
       "      <td>...</td>\n",
       "      <td>1.543919e+08</td>\n",
       "      <td>1.567982e+08</td>\n",
       "      <td>1.593608e+08</td>\n",
       "      <td>1.621534e+08</td>\n",
       "      <td>1.656340e+08</td>\n",
       "      <td>1.693902e+08</td>\n",
       "      <td>1.736459e+08</td>\n",
       "      <td>1.780473e+08</td>\n",
       "      <td>1.826225e+08</td>\n",
       "      <td>1.873686e+08</td>\n",
       "    </tr>\n",
       "    <tr>\n",
       "      <td>230</td>\n",
       "      <td>Zimbabwe</td>\n",
       "      <td>0</td>\n",
       "      <td>0</td>\n",
       "      <td>0</td>\n",
       "      <td>0</td>\n",
       "      <td>0</td>\n",
       "      <td>0</td>\n",
       "      <td>0</td>\n",
       "      <td>0</td>\n",
       "      <td>0</td>\n",
       "      <td>...</td>\n",
       "      <td>6.170923e+08</td>\n",
       "      <td>6.226118e+08</td>\n",
       "      <td>6.302928e+08</td>\n",
       "      <td>6.397327e+08</td>\n",
       "      <td>6.473473e+08</td>\n",
       "      <td>6.588835e+08</td>\n",
       "      <td>6.707499e+08</td>\n",
       "      <td>6.816575e+08</td>\n",
       "      <td>6.915901e+08</td>\n",
       "      <td>7.019879e+08</td>\n",
       "    </tr>\n",
       "  </tbody>\n",
       "</table>\n",
       "<p>231 rows × 268 columns</p>\n",
       "</div>"
      ],
      "text/plain": [
       "                       Country     1751      1752      1753      1754  \\\n",
       "0                  Afghanistan        0         0         0         0   \n",
       "1                       Africa        0         0         0         0   \n",
       "2                      Albania        0         0         0         0   \n",
       "3                      Algeria        0         0         0         0   \n",
       "4             Americas (other)        0         0         0         0   \n",
       "..                         ...      ...       ...       ...       ...   \n",
       "226  Wallis and Futuna Islands        0         0         0         0   \n",
       "227                      World  9350528  18704720  28058912  37416768   \n",
       "228                      Yemen        0         0         0         0   \n",
       "229                     Zambia        0         0         0         0   \n",
       "230                   Zimbabwe        0         0         0         0   \n",
       "\n",
       "         1755      1756      1757      1758      1759  ...          2008  \\\n",
       "0           0         0         0         0         0  ...  8.515264e+07   \n",
       "1           0         0         0         0         0  ...  3.183077e+10   \n",
       "2           0         0         0         0         0  ...  2.287948e+08   \n",
       "3           0         0         0         0         0  ...  2.894820e+09   \n",
       "4           0         0         0         0         0  ...  7.746025e+10   \n",
       "..        ...       ...       ...       ...       ...  ...           ...   \n",
       "226         0         0         0         0         0  ...  2.015200e+05   \n",
       "227  46778288  56784672  66794720  76808432  86825808  ...  1.260000e+12   \n",
       "228         0         0         0         0         0  ...  4.285533e+08   \n",
       "229         0         0         0         0         0  ...  1.543919e+08   \n",
       "230         0         0         0         0         0  ...  6.170923e+08   \n",
       "\n",
       "             2009          2010          2011          2012          2013  \\\n",
       "0    9.191295e+07  1.003652e+08  1.125912e+08  1.233332e+08  1.333337e+08   \n",
       "1    3.301904e+10  3.421283e+10  3.541120e+10  3.664504e+10  3.789569e+10   \n",
       "2    2.331696e+08  2.377643e+08  2.430001e+08  2.479062e+08  2.529662e+08   \n",
       "3    3.015005e+09  3.132819e+09  3.252626e+09  3.380736e+09  3.513171e+09   \n",
       "4    7.961787e+10  8.187178e+10  8.416656e+10  8.654197e+10  8.894874e+10   \n",
       "..            ...           ...           ...           ...           ...   \n",
       "226  2.308320e+05  2.601440e+05  2.857920e+05  3.114400e+05  3.334240e+05   \n",
       "227  1.290000e+12  1.330000e+12  1.360000e+12  1.400000e+12  1.430000e+12   \n",
       "228  4.528009e+08  4.759527e+08  4.954658e+08  5.137040e+08  5.386844e+08   \n",
       "229  1.567982e+08  1.593608e+08  1.621534e+08  1.656340e+08  1.693902e+08   \n",
       "230  6.226118e+08  6.302928e+08  6.397327e+08  6.473473e+08  6.588835e+08   \n",
       "\n",
       "             2014          2015          2016          2017  \n",
       "0    1.431228e+08  1.532303e+08  1.654882e+08  1.785029e+08  \n",
       "1    3.918617e+10  4.047518e+10  4.178583e+10  4.311757e+10  \n",
       "2    2.586784e+08  2.646261e+08  2.708990e+08  2.772782e+08  \n",
       "3    3.656348e+09  3.806940e+09  3.957319e+09  4.107870e+09  \n",
       "4    9.139192e+10  9.382747e+10  9.624253e+10  9.864116e+10  \n",
       "..            ...           ...           ...           ...  \n",
       "226  3.554080e+05  3.793990e+05  4.036640e+05  4.295730e+05  \n",
       "227  1.470000e+12  1.500000e+12  1.540000e+12  1.580000e+12  \n",
       "228  5.609470e+08  5.813316e+08  6.004670e+08  6.194328e+08  \n",
       "229  1.736459e+08  1.780473e+08  1.826225e+08  1.873686e+08  \n",
       "230  6.707499e+08  6.816575e+08  6.915901e+08  7.019879e+08  \n",
       "\n",
       "[231 rows x 268 columns]"
      ]
     },
     "execution_count": 4,
     "metadata": {},
     "output_type": "execute_result"
    }
   ],
   "source": [
    "greenhouse #How could I sum columns together into new columns...? "
   ]
  },
  {
   "cell_type": "code",
   "execution_count": 5,
   "metadata": {},
   "outputs": [],
   "source": [
    "#This dataset contains emission data of Green House Gases (in tonnes) of different countries from year 1750 - 2019. At least\n",
    "#that is what the description says on the source. However, it seems like the data actually only contains values until 2017."
   ]
  },
  {
   "cell_type": "code",
   "execution_count": 6,
   "metadata": {},
   "outputs": [
    {
     "name": "stdout",
     "output_type": "stream",
     "text": [
      "<class 'pandas.core.frame.DataFrame'>\n",
      "RangeIndex: 231 entries, 0 to 230\n",
      "Columns: 268 entries, Country to 2017\n",
      "dtypes: float64(98), int64(169), object(1)\n",
      "memory usage: 482.8+ KB\n"
     ]
    }
   ],
   "source": [
    "greenhouse.info()"
   ]
  },
  {
   "cell_type": "code",
   "execution_count": 7,
   "metadata": {},
   "outputs": [
    {
     "data": {
      "text/html": [
       "<div>\n",
       "<style scoped>\n",
       "    .dataframe tbody tr th:only-of-type {\n",
       "        vertical-align: middle;\n",
       "    }\n",
       "\n",
       "    .dataframe tbody tr th {\n",
       "        vertical-align: top;\n",
       "    }\n",
       "\n",
       "    .dataframe thead th {\n",
       "        text-align: right;\n",
       "    }\n",
       "</style>\n",
       "<table border=\"1\" class=\"dataframe\">\n",
       "  <thead>\n",
       "    <tr style=\"text-align: right;\">\n",
       "      <th></th>\n",
       "      <th>1751</th>\n",
       "      <th>1752</th>\n",
       "      <th>1753</th>\n",
       "      <th>1754</th>\n",
       "      <th>1755</th>\n",
       "      <th>1756</th>\n",
       "      <th>1757</th>\n",
       "      <th>1758</th>\n",
       "      <th>1759</th>\n",
       "      <th>1760</th>\n",
       "      <th>...</th>\n",
       "      <th>2008</th>\n",
       "      <th>2009</th>\n",
       "      <th>2010</th>\n",
       "      <th>2011</th>\n",
       "      <th>2012</th>\n",
       "      <th>2013</th>\n",
       "      <th>2014</th>\n",
       "      <th>2015</th>\n",
       "      <th>2016</th>\n",
       "      <th>2017</th>\n",
       "    </tr>\n",
       "  </thead>\n",
       "  <tbody>\n",
       "    <tr>\n",
       "      <td>count</td>\n",
       "      <td>2.310000e+02</td>\n",
       "      <td>2.310000e+02</td>\n",
       "      <td>2.310000e+02</td>\n",
       "      <td>2.310000e+02</td>\n",
       "      <td>2.310000e+02</td>\n",
       "      <td>2.310000e+02</td>\n",
       "      <td>2.310000e+02</td>\n",
       "      <td>2.310000e+02</td>\n",
       "      <td>2.310000e+02</td>\n",
       "      <td>2.310000e+02</td>\n",
       "      <td>...</td>\n",
       "      <td>2.310000e+02</td>\n",
       "      <td>2.310000e+02</td>\n",
       "      <td>2.310000e+02</td>\n",
       "      <td>2.310000e+02</td>\n",
       "      <td>2.310000e+02</td>\n",
       "      <td>2.310000e+02</td>\n",
       "      <td>2.310000e+02</td>\n",
       "      <td>2.310000e+02</td>\n",
       "      <td>2.310000e+02</td>\n",
       "      <td>2.310000e+02</td>\n",
       "    </tr>\n",
       "    <tr>\n",
       "      <td>mean</td>\n",
       "      <td>1.214354e+05</td>\n",
       "      <td>2.429184e+05</td>\n",
       "      <td>3.644015e+05</td>\n",
       "      <td>4.859321e+05</td>\n",
       "      <td>6.075102e+05</td>\n",
       "      <td>7.374633e+05</td>\n",
       "      <td>8.674639e+05</td>\n",
       "      <td>9.975121e+05</td>\n",
       "      <td>1.127608e+06</td>\n",
       "      <td>1.257704e+06</td>\n",
       "      <td>...</td>\n",
       "      <td>1.398744e+10</td>\n",
       "      <td>1.431951e+10</td>\n",
       "      <td>1.469829e+10</td>\n",
       "      <td>1.504459e+10</td>\n",
       "      <td>1.543729e+10</td>\n",
       "      <td>1.578588e+10</td>\n",
       "      <td>1.617543e+10</td>\n",
       "      <td>1.653158e+10</td>\n",
       "      <td>1.691931e+10</td>\n",
       "      <td>1.732373e+10</td>\n",
       "    </tr>\n",
       "    <tr>\n",
       "      <td>std</td>\n",
       "      <td>1.060948e+06</td>\n",
       "      <td>2.122313e+06</td>\n",
       "      <td>3.183677e+06</td>\n",
       "      <td>4.245457e+06</td>\n",
       "      <td>5.307652e+06</td>\n",
       "      <td>6.443017e+06</td>\n",
       "      <td>7.578797e+06</td>\n",
       "      <td>8.714993e+06</td>\n",
       "      <td>9.851605e+06</td>\n",
       "      <td>1.098822e+07</td>\n",
       "      <td>...</td>\n",
       "      <td>8.981685e+10</td>\n",
       "      <td>9.188034e+10</td>\n",
       "      <td>9.454156e+10</td>\n",
       "      <td>9.661454e+10</td>\n",
       "      <td>9.929591e+10</td>\n",
       "      <td>1.013842e+11</td>\n",
       "      <td>1.040596e+11</td>\n",
       "      <td>1.061600e+11</td>\n",
       "      <td>1.088358e+11</td>\n",
       "      <td>1.115423e+11</td>\n",
       "    </tr>\n",
       "    <tr>\n",
       "      <td>min</td>\n",
       "      <td>0.000000e+00</td>\n",
       "      <td>0.000000e+00</td>\n",
       "      <td>0.000000e+00</td>\n",
       "      <td>0.000000e+00</td>\n",
       "      <td>0.000000e+00</td>\n",
       "      <td>0.000000e+00</td>\n",
       "      <td>0.000000e+00</td>\n",
       "      <td>0.000000e+00</td>\n",
       "      <td>0.000000e+00</td>\n",
       "      <td>0.000000e+00</td>\n",
       "      <td>...</td>\n",
       "      <td>0.000000e+00</td>\n",
       "      <td>0.000000e+00</td>\n",
       "      <td>0.000000e+00</td>\n",
       "      <td>0.000000e+00</td>\n",
       "      <td>0.000000e+00</td>\n",
       "      <td>0.000000e+00</td>\n",
       "      <td>0.000000e+00</td>\n",
       "      <td>0.000000e+00</td>\n",
       "      <td>0.000000e+00</td>\n",
       "      <td>0.000000e+00</td>\n",
       "    </tr>\n",
       "    <tr>\n",
       "      <td>25%</td>\n",
       "      <td>0.000000e+00</td>\n",
       "      <td>0.000000e+00</td>\n",
       "      <td>0.000000e+00</td>\n",
       "      <td>0.000000e+00</td>\n",
       "      <td>0.000000e+00</td>\n",
       "      <td>0.000000e+00</td>\n",
       "      <td>0.000000e+00</td>\n",
       "      <td>0.000000e+00</td>\n",
       "      <td>0.000000e+00</td>\n",
       "      <td>0.000000e+00</td>\n",
       "      <td>...</td>\n",
       "      <td>2.493352e+07</td>\n",
       "      <td>2.574326e+07</td>\n",
       "      <td>2.644592e+07</td>\n",
       "      <td>2.710177e+07</td>\n",
       "      <td>2.768984e+07</td>\n",
       "      <td>2.862802e+07</td>\n",
       "      <td>2.976871e+07</td>\n",
       "      <td>3.105887e+07</td>\n",
       "      <td>3.268508e+07</td>\n",
       "      <td>3.421887e+07</td>\n",
       "    </tr>\n",
       "    <tr>\n",
       "      <td>50%</td>\n",
       "      <td>0.000000e+00</td>\n",
       "      <td>0.000000e+00</td>\n",
       "      <td>0.000000e+00</td>\n",
       "      <td>0.000000e+00</td>\n",
       "      <td>0.000000e+00</td>\n",
       "      <td>0.000000e+00</td>\n",
       "      <td>0.000000e+00</td>\n",
       "      <td>0.000000e+00</td>\n",
       "      <td>0.000000e+00</td>\n",
       "      <td>0.000000e+00</td>\n",
       "      <td>...</td>\n",
       "      <td>2.045568e+08</td>\n",
       "      <td>2.129394e+08</td>\n",
       "      <td>2.209573e+08</td>\n",
       "      <td>2.300825e+08</td>\n",
       "      <td>2.416023e+08</td>\n",
       "      <td>2.507415e+08</td>\n",
       "      <td>2.563229e+08</td>\n",
       "      <td>2.621147e+08</td>\n",
       "      <td>2.680755e+08</td>\n",
       "      <td>2.737319e+08</td>\n",
       "    </tr>\n",
       "    <tr>\n",
       "      <td>75%</td>\n",
       "      <td>0.000000e+00</td>\n",
       "      <td>0.000000e+00</td>\n",
       "      <td>0.000000e+00</td>\n",
       "      <td>0.000000e+00</td>\n",
       "      <td>0.000000e+00</td>\n",
       "      <td>0.000000e+00</td>\n",
       "      <td>0.000000e+00</td>\n",
       "      <td>0.000000e+00</td>\n",
       "      <td>0.000000e+00</td>\n",
       "      <td>0.000000e+00</td>\n",
       "      <td>...</td>\n",
       "      <td>2.394520e+09</td>\n",
       "      <td>2.449266e+09</td>\n",
       "      <td>2.506229e+09</td>\n",
       "      <td>2.563067e+09</td>\n",
       "      <td>2.620797e+09</td>\n",
       "      <td>2.677380e+09</td>\n",
       "      <td>2.713781e+09</td>\n",
       "      <td>2.776195e+09</td>\n",
       "      <td>2.855434e+09</td>\n",
       "      <td>2.987929e+09</td>\n",
       "    </tr>\n",
       "    <tr>\n",
       "      <td>max</td>\n",
       "      <td>9.350528e+06</td>\n",
       "      <td>1.870472e+07</td>\n",
       "      <td>2.805891e+07</td>\n",
       "      <td>3.741677e+07</td>\n",
       "      <td>4.677829e+07</td>\n",
       "      <td>5.678467e+07</td>\n",
       "      <td>6.679472e+07</td>\n",
       "      <td>7.680843e+07</td>\n",
       "      <td>8.682581e+07</td>\n",
       "      <td>9.684318e+07</td>\n",
       "      <td>...</td>\n",
       "      <td>1.260000e+12</td>\n",
       "      <td>1.290000e+12</td>\n",
       "      <td>1.330000e+12</td>\n",
       "      <td>1.360000e+12</td>\n",
       "      <td>1.400000e+12</td>\n",
       "      <td>1.430000e+12</td>\n",
       "      <td>1.470000e+12</td>\n",
       "      <td>1.500000e+12</td>\n",
       "      <td>1.540000e+12</td>\n",
       "      <td>1.580000e+12</td>\n",
       "    </tr>\n",
       "  </tbody>\n",
       "</table>\n",
       "<p>8 rows × 267 columns</p>\n",
       "</div>"
      ],
      "text/plain": [
       "               1751          1752          1753          1754          1755  \\\n",
       "count  2.310000e+02  2.310000e+02  2.310000e+02  2.310000e+02  2.310000e+02   \n",
       "mean   1.214354e+05  2.429184e+05  3.644015e+05  4.859321e+05  6.075102e+05   \n",
       "std    1.060948e+06  2.122313e+06  3.183677e+06  4.245457e+06  5.307652e+06   \n",
       "min    0.000000e+00  0.000000e+00  0.000000e+00  0.000000e+00  0.000000e+00   \n",
       "25%    0.000000e+00  0.000000e+00  0.000000e+00  0.000000e+00  0.000000e+00   \n",
       "50%    0.000000e+00  0.000000e+00  0.000000e+00  0.000000e+00  0.000000e+00   \n",
       "75%    0.000000e+00  0.000000e+00  0.000000e+00  0.000000e+00  0.000000e+00   \n",
       "max    9.350528e+06  1.870472e+07  2.805891e+07  3.741677e+07  4.677829e+07   \n",
       "\n",
       "               1756          1757          1758          1759          1760  \\\n",
       "count  2.310000e+02  2.310000e+02  2.310000e+02  2.310000e+02  2.310000e+02   \n",
       "mean   7.374633e+05  8.674639e+05  9.975121e+05  1.127608e+06  1.257704e+06   \n",
       "std    6.443017e+06  7.578797e+06  8.714993e+06  9.851605e+06  1.098822e+07   \n",
       "min    0.000000e+00  0.000000e+00  0.000000e+00  0.000000e+00  0.000000e+00   \n",
       "25%    0.000000e+00  0.000000e+00  0.000000e+00  0.000000e+00  0.000000e+00   \n",
       "50%    0.000000e+00  0.000000e+00  0.000000e+00  0.000000e+00  0.000000e+00   \n",
       "75%    0.000000e+00  0.000000e+00  0.000000e+00  0.000000e+00  0.000000e+00   \n",
       "max    5.678467e+07  6.679472e+07  7.680843e+07  8.682581e+07  9.684318e+07   \n",
       "\n",
       "       ...          2008          2009          2010          2011  \\\n",
       "count  ...  2.310000e+02  2.310000e+02  2.310000e+02  2.310000e+02   \n",
       "mean   ...  1.398744e+10  1.431951e+10  1.469829e+10  1.504459e+10   \n",
       "std    ...  8.981685e+10  9.188034e+10  9.454156e+10  9.661454e+10   \n",
       "min    ...  0.000000e+00  0.000000e+00  0.000000e+00  0.000000e+00   \n",
       "25%    ...  2.493352e+07  2.574326e+07  2.644592e+07  2.710177e+07   \n",
       "50%    ...  2.045568e+08  2.129394e+08  2.209573e+08  2.300825e+08   \n",
       "75%    ...  2.394520e+09  2.449266e+09  2.506229e+09  2.563067e+09   \n",
       "max    ...  1.260000e+12  1.290000e+12  1.330000e+12  1.360000e+12   \n",
       "\n",
       "               2012          2013          2014          2015          2016  \\\n",
       "count  2.310000e+02  2.310000e+02  2.310000e+02  2.310000e+02  2.310000e+02   \n",
       "mean   1.543729e+10  1.578588e+10  1.617543e+10  1.653158e+10  1.691931e+10   \n",
       "std    9.929591e+10  1.013842e+11  1.040596e+11  1.061600e+11  1.088358e+11   \n",
       "min    0.000000e+00  0.000000e+00  0.000000e+00  0.000000e+00  0.000000e+00   \n",
       "25%    2.768984e+07  2.862802e+07  2.976871e+07  3.105887e+07  3.268508e+07   \n",
       "50%    2.416023e+08  2.507415e+08  2.563229e+08  2.621147e+08  2.680755e+08   \n",
       "75%    2.620797e+09  2.677380e+09  2.713781e+09  2.776195e+09  2.855434e+09   \n",
       "max    1.400000e+12  1.430000e+12  1.470000e+12  1.500000e+12  1.540000e+12   \n",
       "\n",
       "               2017  \n",
       "count  2.310000e+02  \n",
       "mean   1.732373e+10  \n",
       "std    1.115423e+11  \n",
       "min    0.000000e+00  \n",
       "25%    3.421887e+07  \n",
       "50%    2.737319e+08  \n",
       "75%    2.987929e+09  \n",
       "max    1.580000e+12  \n",
       "\n",
       "[8 rows x 267 columns]"
      ]
     },
     "execution_count": 7,
     "metadata": {},
     "output_type": "execute_result"
    }
   ],
   "source": [
    "greenhouse.describe()"
   ]
  },
  {
   "cell_type": "code",
   "execution_count": 8,
   "metadata": {},
   "outputs": [
    {
     "data": {
      "text/plain": [
       "0"
      ]
     },
     "execution_count": 8,
     "metadata": {},
     "output_type": "execute_result"
    }
   ],
   "source": [
    "greenhouse.isnull().sum().sum() #No NaN values, yay!"
   ]
  },
  {
   "cell_type": "markdown",
   "metadata": {},
   "source": [
    "#### 2. Reordering and tidying Data for easier inspection"
   ]
  },
  {
   "cell_type": "code",
   "execution_count": 9,
   "metadata": {},
   "outputs": [],
   "source": [
    "#To make this dataframe useable, I'm going to take the liberty of shrinking it to 4 columns"
   ]
  },
  {
   "cell_type": "code",
   "execution_count": 10,
   "metadata": {},
   "outputs": [],
   "source": [
    "greenhouse['1751-1800'] = greenhouse.iloc[:,1:50].sum(axis=1)"
   ]
  },
  {
   "cell_type": "code",
   "execution_count": 11,
   "metadata": {},
   "outputs": [],
   "source": [
    "greenhouse['1801-1900'] = greenhouse.iloc[:,51:150].sum(axis=1)"
   ]
  },
  {
   "cell_type": "code",
   "execution_count": 12,
   "metadata": {},
   "outputs": [],
   "source": [
    "greenhouse['1901-2000'] = greenhouse.iloc[:,151:250].sum(axis=1)"
   ]
  },
  {
   "cell_type": "code",
   "execution_count": 13,
   "metadata": {},
   "outputs": [],
   "source": [
    "greenhouse['2001-2017'] = greenhouse.iloc[:,251:267].sum(axis=1)"
   ]
  },
  {
   "cell_type": "code",
   "execution_count": 14,
   "metadata": {},
   "outputs": [],
   "source": [
    "#greenhouse.iloc[:,267]  < This code was only used to check if I was summing the correct columns."
   ]
  },
  {
   "cell_type": "code",
   "execution_count": 15,
   "metadata": {},
   "outputs": [
    {
     "data": {
      "text/html": [
       "<div>\n",
       "<style scoped>\n",
       "    .dataframe tbody tr th:only-of-type {\n",
       "        vertical-align: middle;\n",
       "    }\n",
       "\n",
       "    .dataframe tbody tr th {\n",
       "        vertical-align: top;\n",
       "    }\n",
       "\n",
       "    .dataframe thead th {\n",
       "        text-align: right;\n",
       "    }\n",
       "</style>\n",
       "<table border=\"1\" class=\"dataframe\">\n",
       "  <thead>\n",
       "    <tr style=\"text-align: right;\">\n",
       "      <th></th>\n",
       "      <th>Country</th>\n",
       "      <th>1751</th>\n",
       "      <th>1752</th>\n",
       "      <th>1753</th>\n",
       "      <th>1754</th>\n",
       "      <th>1755</th>\n",
       "      <th>1756</th>\n",
       "      <th>1757</th>\n",
       "      <th>1758</th>\n",
       "      <th>1759</th>\n",
       "      <th>...</th>\n",
       "      <th>2012</th>\n",
       "      <th>2013</th>\n",
       "      <th>2014</th>\n",
       "      <th>2015</th>\n",
       "      <th>2016</th>\n",
       "      <th>2017</th>\n",
       "      <th>1751-1800</th>\n",
       "      <th>1801-1900</th>\n",
       "      <th>1901-2000</th>\n",
       "      <th>2001-2017</th>\n",
       "    </tr>\n",
       "  </thead>\n",
       "  <tbody>\n",
       "    <tr>\n",
       "      <td>0</td>\n",
       "      <td>Afghanistan</td>\n",
       "      <td>0</td>\n",
       "      <td>0</td>\n",
       "      <td>0</td>\n",
       "      <td>0</td>\n",
       "      <td>0</td>\n",
       "      <td>0</td>\n",
       "      <td>0</td>\n",
       "      <td>0</td>\n",
       "      <td>0</td>\n",
       "      <td>...</td>\n",
       "      <td>1.233332e+08</td>\n",
       "      <td>1.333337e+08</td>\n",
       "      <td>1.431228e+08</td>\n",
       "      <td>1.532303e+08</td>\n",
       "      <td>1.654882e+08</td>\n",
       "      <td>1.785029e+08</td>\n",
       "      <td>0</td>\n",
       "      <td>0</td>\n",
       "      <td>1.366950e+09</td>\n",
       "      <td>1.641840e+09</td>\n",
       "    </tr>\n",
       "    <tr>\n",
       "      <td>1</td>\n",
       "      <td>Africa</td>\n",
       "      <td>0</td>\n",
       "      <td>0</td>\n",
       "      <td>0</td>\n",
       "      <td>0</td>\n",
       "      <td>0</td>\n",
       "      <td>0</td>\n",
       "      <td>0</td>\n",
       "      <td>0</td>\n",
       "      <td>0</td>\n",
       "      <td>...</td>\n",
       "      <td>3.664504e+10</td>\n",
       "      <td>3.789569e+10</td>\n",
       "      <td>3.918617e+10</td>\n",
       "      <td>4.047518e+10</td>\n",
       "      <td>4.178583e+10</td>\n",
       "      <td>4.311757e+10</td>\n",
       "      <td>0</td>\n",
       "      <td>106944832</td>\n",
       "      <td>4.750580e+11</td>\n",
       "      <td>5.227695e+11</td>\n",
       "    </tr>\n",
       "    <tr>\n",
       "      <td>2</td>\n",
       "      <td>Albania</td>\n",
       "      <td>0</td>\n",
       "      <td>0</td>\n",
       "      <td>0</td>\n",
       "      <td>0</td>\n",
       "      <td>0</td>\n",
       "      <td>0</td>\n",
       "      <td>0</td>\n",
       "      <td>0</td>\n",
       "      <td>0</td>\n",
       "      <td>...</td>\n",
       "      <td>2.479062e+08</td>\n",
       "      <td>2.529662e+08</td>\n",
       "      <td>2.586784e+08</td>\n",
       "      <td>2.646261e+08</td>\n",
       "      <td>2.708990e+08</td>\n",
       "      <td>2.772782e+08</td>\n",
       "      <td>0</td>\n",
       "      <td>0</td>\n",
       "      <td>4.235906e+09</td>\n",
       "      <td>3.723934e+09</td>\n",
       "    </tr>\n",
       "    <tr>\n",
       "      <td>3</td>\n",
       "      <td>Algeria</td>\n",
       "      <td>0</td>\n",
       "      <td>0</td>\n",
       "      <td>0</td>\n",
       "      <td>0</td>\n",
       "      <td>0</td>\n",
       "      <td>0</td>\n",
       "      <td>0</td>\n",
       "      <td>0</td>\n",
       "      <td>0</td>\n",
       "      <td>...</td>\n",
       "      <td>3.380736e+09</td>\n",
       "      <td>3.513171e+09</td>\n",
       "      <td>3.656348e+09</td>\n",
       "      <td>3.806940e+09</td>\n",
       "      <td>3.957319e+09</td>\n",
       "      <td>4.107870e+09</td>\n",
       "      <td>0</td>\n",
       "      <td>0</td>\n",
       "      <td>2.841050e+10</td>\n",
       "      <td>4.799794e+10</td>\n",
       "    </tr>\n",
       "    <tr>\n",
       "      <td>4</td>\n",
       "      <td>Americas (other)</td>\n",
       "      <td>0</td>\n",
       "      <td>0</td>\n",
       "      <td>0</td>\n",
       "      <td>0</td>\n",
       "      <td>0</td>\n",
       "      <td>0</td>\n",
       "      <td>0</td>\n",
       "      <td>0</td>\n",
       "      <td>0</td>\n",
       "      <td>...</td>\n",
       "      <td>8.654197e+10</td>\n",
       "      <td>8.894874e+10</td>\n",
       "      <td>9.139192e+10</td>\n",
       "      <td>9.382747e+10</td>\n",
       "      <td>9.624253e+10</td>\n",
       "      <td>9.864116e+10</td>\n",
       "      <td>439680</td>\n",
       "      <td>3039035184</td>\n",
       "      <td>1.545147e+12</td>\n",
       "      <td>1.262818e+12</td>\n",
       "    </tr>\n",
       "    <tr>\n",
       "      <td>...</td>\n",
       "      <td>...</td>\n",
       "      <td>...</td>\n",
       "      <td>...</td>\n",
       "      <td>...</td>\n",
       "      <td>...</td>\n",
       "      <td>...</td>\n",
       "      <td>...</td>\n",
       "      <td>...</td>\n",
       "      <td>...</td>\n",
       "      <td>...</td>\n",
       "      <td>...</td>\n",
       "      <td>...</td>\n",
       "      <td>...</td>\n",
       "      <td>...</td>\n",
       "      <td>...</td>\n",
       "      <td>...</td>\n",
       "      <td>...</td>\n",
       "      <td>...</td>\n",
       "      <td>...</td>\n",
       "      <td>...</td>\n",
       "      <td>...</td>\n",
       "    </tr>\n",
       "    <tr>\n",
       "      <td>226</td>\n",
       "      <td>Wallis and Futuna Islands</td>\n",
       "      <td>0</td>\n",
       "      <td>0</td>\n",
       "      <td>0</td>\n",
       "      <td>0</td>\n",
       "      <td>0</td>\n",
       "      <td>0</td>\n",
       "      <td>0</td>\n",
       "      <td>0</td>\n",
       "      <td>0</td>\n",
       "      <td>...</td>\n",
       "      <td>3.114400e+05</td>\n",
       "      <td>3.334240e+05</td>\n",
       "      <td>3.554080e+05</td>\n",
       "      <td>3.793990e+05</td>\n",
       "      <td>4.036640e+05</td>\n",
       "      <td>4.295730e+05</td>\n",
       "      <td>0</td>\n",
       "      <td>0</td>\n",
       "      <td>0.000000e+00</td>\n",
       "      <td>3.424807e+06</td>\n",
       "    </tr>\n",
       "    <tr>\n",
       "      <td>227</td>\n",
       "      <td>World</td>\n",
       "      <td>9350528</td>\n",
       "      <td>18704720</td>\n",
       "      <td>28058912</td>\n",
       "      <td>37416768</td>\n",
       "      <td>46778288</td>\n",
       "      <td>56784672</td>\n",
       "      <td>66794720</td>\n",
       "      <td>76808432</td>\n",
       "      <td>86825808</td>\n",
       "      <td>...</td>\n",
       "      <td>1.400000e+12</td>\n",
       "      <td>1.430000e+12</td>\n",
       "      <td>1.470000e+12</td>\n",
       "      <td>1.500000e+12</td>\n",
       "      <td>1.540000e+12</td>\n",
       "      <td>1.580000e+12</td>\n",
       "      <td>15374008432</td>\n",
       "      <td>987307210800</td>\n",
       "      <td>3.324968e+13</td>\n",
       "      <td>2.058000e+13</td>\n",
       "    </tr>\n",
       "    <tr>\n",
       "      <td>228</td>\n",
       "      <td>Yemen</td>\n",
       "      <td>0</td>\n",
       "      <td>0</td>\n",
       "      <td>0</td>\n",
       "      <td>0</td>\n",
       "      <td>0</td>\n",
       "      <td>0</td>\n",
       "      <td>0</td>\n",
       "      <td>0</td>\n",
       "      <td>0</td>\n",
       "      <td>...</td>\n",
       "      <td>5.137040e+08</td>\n",
       "      <td>5.386844e+08</td>\n",
       "      <td>5.609470e+08</td>\n",
       "      <td>5.813316e+08</td>\n",
       "      <td>6.004670e+08</td>\n",
       "      <td>6.194328e+08</td>\n",
       "      <td>0</td>\n",
       "      <td>0</td>\n",
       "      <td>4.473354e+09</td>\n",
       "      <td>7.079029e+09</td>\n",
       "    </tr>\n",
       "    <tr>\n",
       "      <td>229</td>\n",
       "      <td>Zambia</td>\n",
       "      <td>0</td>\n",
       "      <td>0</td>\n",
       "      <td>0</td>\n",
       "      <td>0</td>\n",
       "      <td>0</td>\n",
       "      <td>0</td>\n",
       "      <td>0</td>\n",
       "      <td>0</td>\n",
       "      <td>0</td>\n",
       "      <td>...</td>\n",
       "      <td>1.656340e+08</td>\n",
       "      <td>1.693902e+08</td>\n",
       "      <td>1.736459e+08</td>\n",
       "      <td>1.780473e+08</td>\n",
       "      <td>1.826225e+08</td>\n",
       "      <td>1.873686e+08</td>\n",
       "      <td>0</td>\n",
       "      <td>0</td>\n",
       "      <td>3.192835e+09</td>\n",
       "      <td>2.524292e+09</td>\n",
       "    </tr>\n",
       "    <tr>\n",
       "      <td>230</td>\n",
       "      <td>Zimbabwe</td>\n",
       "      <td>0</td>\n",
       "      <td>0</td>\n",
       "      <td>0</td>\n",
       "      <td>0</td>\n",
       "      <td>0</td>\n",
       "      <td>0</td>\n",
       "      <td>0</td>\n",
       "      <td>0</td>\n",
       "      <td>0</td>\n",
       "      <td>...</td>\n",
       "      <td>6.473473e+08</td>\n",
       "      <td>6.588835e+08</td>\n",
       "      <td>6.707499e+08</td>\n",
       "      <td>6.816575e+08</td>\n",
       "      <td>6.915901e+08</td>\n",
       "      <td>7.019879e+08</td>\n",
       "      <td>0</td>\n",
       "      <td>0</td>\n",
       "      <td>1.319829e+10</td>\n",
       "      <td>9.910546e+09</td>\n",
       "    </tr>\n",
       "  </tbody>\n",
       "</table>\n",
       "<p>231 rows × 272 columns</p>\n",
       "</div>"
      ],
      "text/plain": [
       "                       Country     1751      1752      1753      1754  \\\n",
       "0                  Afghanistan        0         0         0         0   \n",
       "1                       Africa        0         0         0         0   \n",
       "2                      Albania        0         0         0         0   \n",
       "3                      Algeria        0         0         0         0   \n",
       "4             Americas (other)        0         0         0         0   \n",
       "..                         ...      ...       ...       ...       ...   \n",
       "226  Wallis and Futuna Islands        0         0         0         0   \n",
       "227                      World  9350528  18704720  28058912  37416768   \n",
       "228                      Yemen        0         0         0         0   \n",
       "229                     Zambia        0         0         0         0   \n",
       "230                   Zimbabwe        0         0         0         0   \n",
       "\n",
       "         1755      1756      1757      1758      1759  ...          2012  \\\n",
       "0           0         0         0         0         0  ...  1.233332e+08   \n",
       "1           0         0         0         0         0  ...  3.664504e+10   \n",
       "2           0         0         0         0         0  ...  2.479062e+08   \n",
       "3           0         0         0         0         0  ...  3.380736e+09   \n",
       "4           0         0         0         0         0  ...  8.654197e+10   \n",
       "..        ...       ...       ...       ...       ...  ...           ...   \n",
       "226         0         0         0         0         0  ...  3.114400e+05   \n",
       "227  46778288  56784672  66794720  76808432  86825808  ...  1.400000e+12   \n",
       "228         0         0         0         0         0  ...  5.137040e+08   \n",
       "229         0         0         0         0         0  ...  1.656340e+08   \n",
       "230         0         0         0         0         0  ...  6.473473e+08   \n",
       "\n",
       "             2013          2014          2015          2016          2017  \\\n",
       "0    1.333337e+08  1.431228e+08  1.532303e+08  1.654882e+08  1.785029e+08   \n",
       "1    3.789569e+10  3.918617e+10  4.047518e+10  4.178583e+10  4.311757e+10   \n",
       "2    2.529662e+08  2.586784e+08  2.646261e+08  2.708990e+08  2.772782e+08   \n",
       "3    3.513171e+09  3.656348e+09  3.806940e+09  3.957319e+09  4.107870e+09   \n",
       "4    8.894874e+10  9.139192e+10  9.382747e+10  9.624253e+10  9.864116e+10   \n",
       "..            ...           ...           ...           ...           ...   \n",
       "226  3.334240e+05  3.554080e+05  3.793990e+05  4.036640e+05  4.295730e+05   \n",
       "227  1.430000e+12  1.470000e+12  1.500000e+12  1.540000e+12  1.580000e+12   \n",
       "228  5.386844e+08  5.609470e+08  5.813316e+08  6.004670e+08  6.194328e+08   \n",
       "229  1.693902e+08  1.736459e+08  1.780473e+08  1.826225e+08  1.873686e+08   \n",
       "230  6.588835e+08  6.707499e+08  6.816575e+08  6.915901e+08  7.019879e+08   \n",
       "\n",
       "       1751-1800     1801-1900     1901-2000     2001-2017  \n",
       "0              0             0  1.366950e+09  1.641840e+09  \n",
       "1              0     106944832  4.750580e+11  5.227695e+11  \n",
       "2              0             0  4.235906e+09  3.723934e+09  \n",
       "3              0             0  2.841050e+10  4.799794e+10  \n",
       "4         439680    3039035184  1.545147e+12  1.262818e+12  \n",
       "..           ...           ...           ...           ...  \n",
       "226            0             0  0.000000e+00  3.424807e+06  \n",
       "227  15374008432  987307210800  3.324968e+13  2.058000e+13  \n",
       "228            0             0  4.473354e+09  7.079029e+09  \n",
       "229            0             0  3.192835e+09  2.524292e+09  \n",
       "230            0             0  1.319829e+10  9.910546e+09  \n",
       "\n",
       "[231 rows x 272 columns]"
      ]
     },
     "execution_count": 15,
     "metadata": {},
     "output_type": "execute_result"
    }
   ],
   "source": [
    "greenhouse"
   ]
  },
  {
   "cell_type": "markdown",
   "metadata": {},
   "source": [
    "#### 3. Inspecting the 21st Century"
   ]
  },
  {
   "cell_type": "code",
   "execution_count": 16,
   "metadata": {},
   "outputs": [],
   "source": [
    "century_21st = pd.DataFrame(greenhouse, columns = ['Country', '2001-2017'])\n",
    "#Here I create a new dataframe to inspect the green house gas emission data of only the 21st century until the year 2017.                            "
   ]
  },
  {
   "cell_type": "code",
   "execution_count": 17,
   "metadata": {},
   "outputs": [],
   "source": [
    "century_21st = century_21st.sort_values('2001-2017', ascending = False)\n",
    "#Sorting the new dataframe in descending order."
   ]
  },
  {
   "cell_type": "code",
   "execution_count": 18,
   "metadata": {},
   "outputs": [
    {
     "data": {
      "text/html": [
       "<div>\n",
       "<style scoped>\n",
       "    .dataframe tbody tr th:only-of-type {\n",
       "        vertical-align: middle;\n",
       "    }\n",
       "\n",
       "    .dataframe tbody tr th {\n",
       "        vertical-align: top;\n",
       "    }\n",
       "\n",
       "    .dataframe thead th {\n",
       "        text-align: right;\n",
       "    }\n",
       "</style>\n",
       "<table border=\"1\" class=\"dataframe\">\n",
       "  <thead>\n",
       "    <tr style=\"text-align: right;\">\n",
       "      <th></th>\n",
       "      <th>Country</th>\n",
       "      <th>2001-2017</th>\n",
       "    </tr>\n",
       "  </thead>\n",
       "  <tbody>\n",
       "    <tr>\n",
       "      <td>227</td>\n",
       "      <td>World</td>\n",
       "      <td>2.058000e+13</td>\n",
       "    </tr>\n",
       "    <tr>\n",
       "      <td>220</td>\n",
       "      <td>United States</td>\n",
       "      <td>5.632000e+12</td>\n",
       "    </tr>\n",
       "    <tr>\n",
       "      <td>64</td>\n",
       "      <td>EU-28</td>\n",
       "      <td>5.133000e+12</td>\n",
       "    </tr>\n",
       "    <tr>\n",
       "      <td>72</td>\n",
       "      <td>Europe (other)</td>\n",
       "      <td>2.223000e+12</td>\n",
       "    </tr>\n",
       "    <tr>\n",
       "      <td>13</td>\n",
       "      <td>Asia and Pacific (other)</td>\n",
       "      <td>2.210000e+12</td>\n",
       "    </tr>\n",
       "    <tr>\n",
       "      <td>...</td>\n",
       "      <td>...</td>\n",
       "      <td>...</td>\n",
       "    </tr>\n",
       "    <tr>\n",
       "      <td>226</td>\n",
       "      <td>Wallis and Futuna Islands</td>\n",
       "      <td>3.424807e+06</td>\n",
       "    </tr>\n",
       "    <tr>\n",
       "      <td>155</td>\n",
       "      <td>Niue</td>\n",
       "      <td>3.209147e+06</td>\n",
       "    </tr>\n",
       "    <tr>\n",
       "      <td>215</td>\n",
       "      <td>Tuvalu</td>\n",
       "      <td>2.641227e+06</td>\n",
       "    </tr>\n",
       "    <tr>\n",
       "      <td>8</td>\n",
       "      <td>Antarctic Fisheries</td>\n",
       "      <td>2.297328e+06</td>\n",
       "    </tr>\n",
       "    <tr>\n",
       "      <td>113</td>\n",
       "      <td>Kyrgysztan</td>\n",
       "      <td>0.000000e+00</td>\n",
       "    </tr>\n",
       "  </tbody>\n",
       "</table>\n",
       "<p>231 rows × 2 columns</p>\n",
       "</div>"
      ],
      "text/plain": [
       "                       Country     2001-2017\n",
       "227                      World  2.058000e+13\n",
       "220              United States  5.632000e+12\n",
       "64                       EU-28  5.133000e+12\n",
       "72              Europe (other)  2.223000e+12\n",
       "13    Asia and Pacific (other)  2.210000e+12\n",
       "..                         ...           ...\n",
       "226  Wallis and Futuna Islands  3.424807e+06\n",
       "155                       Niue  3.209147e+06\n",
       "215                     Tuvalu  2.641227e+06\n",
       "8          Antarctic Fisheries  2.297328e+06\n",
       "113                 Kyrgysztan  0.000000e+00\n",
       "\n",
       "[231 rows x 2 columns]"
      ]
     },
     "execution_count": 18,
     "metadata": {},
     "output_type": "execute_result"
    }
   ],
   "source": [
    "century_21st"
   ]
  },
  {
   "cell_type": "code",
   "execution_count": 19,
   "metadata": {},
   "outputs": [
    {
     "data": {
      "text/plain": [
       "<matplotlib.axes._subplots.AxesSubplot at 0x727f4b0>"
      ]
     },
     "execution_count": 19,
     "metadata": {},
     "output_type": "execute_result"
    },
    {
     "data": {
      "image/png": "[encoded data removed]",
      "text/plain": [
       "<Figure size 864x432 with 1 Axes>"
      ]
     },
     "metadata": {
      "needs_background": "light"
     },
     "output_type": "display_data"
    }
   ],
   "source": [
    "century_21st[1:31].plot(kind = 'bar', x = 'Country', y = '2001-2017', color = 'green', figsize = (12,6))"
   ]
  },
  {
   "cell_type": "code",
   "execution_count": 20,
   "metadata": {},
   "outputs": [],
   "source": [
    "#From this chart we can see that the United States and the EU-28 are well ahead of the rest of the world in green house gas\n",
    "#emissions. Interestingly enough Japan, for instance, is a vastly developed and advanced country, and it has way smaller \n",
    "#emission than any of it's peers. True enough, the size of the whole continennt is much-much smaller than for instance, the \n",
    "#United States, or even the EU."
   ]
  },
  {
   "cell_type": "code",
   "execution_count": 21,
   "metadata": {},
   "outputs": [
    {
     "data": {
      "text/plain": [
       "<matplotlib.axes._subplots.AxesSubplot at 0x6259bf0>"
      ]
     },
     "execution_count": 21,
     "metadata": {},
     "output_type": "execute_result"
    },
    {
     "data": {
      "image/png": "[encoded data removed]",
      "text/plain": [
       "<Figure size 864x432 with 1 Axes>"
      ]
     },
     "metadata": {
      "needs_background": "light"
     },
     "output_type": "display_data"
    }
   ],
   "source": [
    "century_21st.tail(30).plot(kind = 'bar', x = 'Country', y = '2001-2017', color = 'green', figsize = (12,6))"
   ]
  },
  {
   "cell_type": "code",
   "execution_count": 22,
   "metadata": {},
   "outputs": [],
   "source": [
    "#It appears that, unsurprisingly, the least amount of green gas emissions in the 21st century happen on smaller islands and\n",
    "#countries. "
   ]
  },
  {
   "cell_type": "markdown",
   "metadata": {},
   "source": [
    "#### 4. Inspecting the 20th Century"
   ]
  },
  {
   "cell_type": "code",
   "execution_count": 23,
   "metadata": {},
   "outputs": [],
   "source": [
    "century_20th = pd.DataFrame(greenhouse, columns = ['Country', '1901-2000'])"
   ]
  },
  {
   "cell_type": "code",
   "execution_count": 24,
   "metadata": {},
   "outputs": [],
   "source": [
    "century_20th = century_20th.sort_values('1901-2000', ascending = False)"
   ]
  },
  {
   "cell_type": "code",
   "execution_count": 25,
   "metadata": {
    "scrolled": false
   },
   "outputs": [
    {
     "data": {
      "text/html": [
       "<div>\n",
       "<style scoped>\n",
       "    .dataframe tbody tr th:only-of-type {\n",
       "        vertical-align: middle;\n",
       "    }\n",
       "\n",
       "    .dataframe tbody tr th {\n",
       "        vertical-align: top;\n",
       "    }\n",
       "\n",
       "    .dataframe thead th {\n",
       "        text-align: right;\n",
       "    }\n",
       "</style>\n",
       "<table border=\"1\" class=\"dataframe\">\n",
       "  <thead>\n",
       "    <tr style=\"text-align: right;\">\n",
       "      <th></th>\n",
       "      <th>Country</th>\n",
       "      <th>1901-2000</th>\n",
       "    </tr>\n",
       "  </thead>\n",
       "  <tbody>\n",
       "    <tr>\n",
       "      <td>227</td>\n",
       "      <td>World</td>\n",
       "      <td>3.324968e+13</td>\n",
       "    </tr>\n",
       "    <tr>\n",
       "      <td>64</td>\n",
       "      <td>EU-28</td>\n",
       "      <td>1.220712e+13</td>\n",
       "    </tr>\n",
       "    <tr>\n",
       "      <td>220</td>\n",
       "      <td>United States</td>\n",
       "      <td>1.125118e+13</td>\n",
       "    </tr>\n",
       "    <tr>\n",
       "      <td>219</td>\n",
       "      <td>United Kingdom</td>\n",
       "      <td>4.044984e+12</td>\n",
       "    </tr>\n",
       "    <tr>\n",
       "      <td>83</td>\n",
       "      <td>Germany</td>\n",
       "      <td>3.406832e+12</td>\n",
       "    </tr>\n",
       "    <tr>\n",
       "      <td>...</td>\n",
       "      <td>...</td>\n",
       "      <td>...</td>\n",
       "    </tr>\n",
       "    <tr>\n",
       "      <td>215</td>\n",
       "      <td>Tuvalu</td>\n",
       "      <td>4.030400e+05</td>\n",
       "    </tr>\n",
       "    <tr>\n",
       "      <td>121</td>\n",
       "      <td>Liechtenstein</td>\n",
       "      <td>0.000000e+00</td>\n",
       "    </tr>\n",
       "    <tr>\n",
       "      <td>113</td>\n",
       "      <td>Kyrgysztan</td>\n",
       "      <td>0.000000e+00</td>\n",
       "    </tr>\n",
       "    <tr>\n",
       "      <td>207</td>\n",
       "      <td>Timor</td>\n",
       "      <td>0.000000e+00</td>\n",
       "    </tr>\n",
       "    <tr>\n",
       "      <td>226</td>\n",
       "      <td>Wallis and Futuna Islands</td>\n",
       "      <td>0.000000e+00</td>\n",
       "    </tr>\n",
       "  </tbody>\n",
       "</table>\n",
       "<p>231 rows × 2 columns</p>\n",
       "</div>"
      ],
      "text/plain": [
       "                       Country     1901-2000\n",
       "227                      World  3.324968e+13\n",
       "64                       EU-28  1.220712e+13\n",
       "220              United States  1.125118e+13\n",
       "219             United Kingdom  4.044984e+12\n",
       "83                     Germany  3.406832e+12\n",
       "..                         ...           ...\n",
       "215                     Tuvalu  4.030400e+05\n",
       "121              Liechtenstein  0.000000e+00\n",
       "113                 Kyrgysztan  0.000000e+00\n",
       "207                      Timor  0.000000e+00\n",
       "226  Wallis and Futuna Islands  0.000000e+00\n",
       "\n",
       "[231 rows x 2 columns]"
      ]
     },
     "execution_count": 25,
     "metadata": {},
     "output_type": "execute_result"
    }
   ],
   "source": [
    "century_20th"
   ]
  },
  {
   "cell_type": "code",
   "execution_count": 26,
   "metadata": {},
   "outputs": [
    {
     "data": {
      "text/plain": [
       "<matplotlib.axes._subplots.AxesSubplot at 0x76164f0>"
      ]
     },
     "execution_count": 26,
     "metadata": {},
     "output_type": "execute_result"
    },
    {
     "data": {
      "image/png": "[encoded data removed]",
      "text/plain": [
       "<Figure size 864x432 with 1 Axes>"
      ]
     },
     "metadata": {
      "needs_background": "light"
     },
     "output_type": "display_data"
    }
   ],
   "source": [
    "century_20th[1:31].plot(kind = 'bar', x = 'Country', y = '1901-2000', color = 'orange', figsize = (12,6))"
   ]
  },
  {
   "cell_type": "code",
   "execution_count": 27,
   "metadata": {},
   "outputs": [],
   "source": [
    "#According to the data, it would appear that the EU-28 countries as a whole were having a higher emission than the United\n",
    "#States actually. Most interesting, although I believe it can be credited to how the USA was still growing into the size\n",
    "#and power it is at in our current days. What is even more noteworthy, is that the green house gas emissions were actually\n",
    "#much higher in the 20th century! The data shows that all the countries on top of the list are actually doing better\n",
    "#emission-wise."
   ]
  },
  {
   "cell_type": "code",
   "execution_count": 28,
   "metadata": {},
   "outputs": [
    {
     "data": {
      "text/plain": [
       "<matplotlib.axes._subplots.AxesSubplot at 0x76a3c70>"
      ]
     },
     "execution_count": 28,
     "metadata": {},
     "output_type": "execute_result"
    },
    {
     "data": {
      "image/png": "[encoded data removed]",
      "text/plain": [
       "<Figure size 864x432 with 1 Axes>"
      ]
     },
     "metadata": {
      "needs_background": "light"
     },
     "output_type": "display_data"
    }
   ],
   "source": [
    "century_20th.tail(30).plot(kind = 'bar', x = 'Country', y = '1901-2000', color = 'orange', figsize = (12,6))"
   ]
  },
  {
   "cell_type": "code",
   "execution_count": 29,
   "metadata": {},
   "outputs": [],
   "source": [
    "#Many familiar values on the top 30 countries with least amount of emission. The names we see here are not much different\n",
    "#from the ones seen on the 21st century charts. The GHG emissions seem to mostly stagnate in these countries too big increase\n",
    "#cannot be seen that much."
   ]
  },
  {
   "cell_type": "markdown",
   "metadata": {},
   "source": [
    "#### 5. Inspecting the 19th Century"
   ]
  },
  {
   "cell_type": "code",
   "execution_count": 30,
   "metadata": {},
   "outputs": [],
   "source": [
    "century_19th = pd.DataFrame(greenhouse, columns = ['Country', '1801-1900'])"
   ]
  },
  {
   "cell_type": "code",
   "execution_count": 31,
   "metadata": {},
   "outputs": [],
   "source": [
    "century_19th = century_19th.sort_values('1801-1900', ascending = False)"
   ]
  },
  {
   "cell_type": "code",
   "execution_count": 32,
   "metadata": {},
   "outputs": [
    {
     "data": {
      "text/html": [
       "<div>\n",
       "<style scoped>\n",
       "    .dataframe tbody tr th:only-of-type {\n",
       "        vertical-align: middle;\n",
       "    }\n",
       "\n",
       "    .dataframe tbody tr th {\n",
       "        vertical-align: top;\n",
       "    }\n",
       "\n",
       "    .dataframe thead th {\n",
       "        text-align: right;\n",
       "    }\n",
       "</style>\n",
       "<table border=\"1\" class=\"dataframe\">\n",
       "  <thead>\n",
       "    <tr style=\"text-align: right;\">\n",
       "      <th></th>\n",
       "      <th>Country</th>\n",
       "      <th>1801-1900</th>\n",
       "    </tr>\n",
       "  </thead>\n",
       "  <tbody>\n",
       "    <tr>\n",
       "      <td>227</td>\n",
       "      <td>World</td>\n",
       "      <td>987307210800</td>\n",
       "    </tr>\n",
       "    <tr>\n",
       "      <td>64</td>\n",
       "      <td>EU-28</td>\n",
       "      <td>814769864832</td>\n",
       "    </tr>\n",
       "    <tr>\n",
       "      <td>219</td>\n",
       "      <td>United Kingdom</td>\n",
       "      <td>533333400864</td>\n",
       "    </tr>\n",
       "    <tr>\n",
       "      <td>220</td>\n",
       "      <td>United States</td>\n",
       "      <td>146505340448</td>\n",
       "    </tr>\n",
       "    <tr>\n",
       "      <td>83</td>\n",
       "      <td>Germany</td>\n",
       "      <td>107795916912</td>\n",
       "    </tr>\n",
       "    <tr>\n",
       "      <td>...</td>\n",
       "      <td>...</td>\n",
       "      <td>...</td>\n",
       "    </tr>\n",
       "    <tr>\n",
       "      <td>89</td>\n",
       "      <td>Guadeloupe</td>\n",
       "      <td>0</td>\n",
       "    </tr>\n",
       "    <tr>\n",
       "      <td>90</td>\n",
       "      <td>Guatemala</td>\n",
       "      <td>0</td>\n",
       "    </tr>\n",
       "    <tr>\n",
       "      <td>91</td>\n",
       "      <td>Guinea</td>\n",
       "      <td>0</td>\n",
       "    </tr>\n",
       "    <tr>\n",
       "      <td>92</td>\n",
       "      <td>Guinea-Bissau</td>\n",
       "      <td>0</td>\n",
       "    </tr>\n",
       "    <tr>\n",
       "      <td>230</td>\n",
       "      <td>Zimbabwe</td>\n",
       "      <td>0</td>\n",
       "    </tr>\n",
       "  </tbody>\n",
       "</table>\n",
       "<p>231 rows × 2 columns</p>\n",
       "</div>"
      ],
      "text/plain": [
       "            Country     1801-1900\n",
       "227           World  987307210800\n",
       "64            EU-28  814769864832\n",
       "219  United Kingdom  533333400864\n",
       "220   United States  146505340448\n",
       "83          Germany  107795916912\n",
       "..              ...           ...\n",
       "89       Guadeloupe             0\n",
       "90        Guatemala             0\n",
       "91           Guinea             0\n",
       "92    Guinea-Bissau             0\n",
       "230        Zimbabwe             0\n",
       "\n",
       "[231 rows x 2 columns]"
      ]
     },
     "execution_count": 32,
     "metadata": {},
     "output_type": "execute_result"
    }
   ],
   "source": [
    "century_19th"
   ]
  },
  {
   "cell_type": "code",
   "execution_count": 33,
   "metadata": {},
   "outputs": [],
   "source": [
    "century_19th['1801-1900'] = np.where((century_19th['1801-1900'] > 500000000000), century_19th['1801-1900']/3, century_19th['1801-1900'])\n",
    "#I am dividing the values that are too high, by 3, so they don't make all the other much smaller values not visible."
   ]
  },
  {
   "cell_type": "code",
   "execution_count": 34,
   "metadata": {},
   "outputs": [
    {
     "data": {
      "text/plain": [
       "<matplotlib.axes._subplots.AxesSubplot at 0x79338f0>"
      ]
     },
     "execution_count": 34,
     "metadata": {},
     "output_type": "execute_result"
    },
    {
     "data": {
      "image/png": "[encoded data removed]",
      "text/plain": [
       "<Figure size 864x432 with 1 Axes>"
      ]
     },
     "metadata": {
      "needs_background": "light"
     },
     "output_type": "display_data"
    }
   ],
   "source": [
    "century_19th[2:31].plot(kind = 'bar', x = 'Country', y = '1801-1900', color = 'blue', figsize = (12,6))"
   ]
  },
  {
   "cell_type": "code",
   "execution_count": 35,
   "metadata": {},
   "outputs": [],
   "source": [
    "#Generally speaking, it's clear that the GHG emissions were very much lower in the 19th Century than in the 20th and so on.\n",
    "#Obviously, since technology was much less advanced, the Industrial Revolution was still progressing in the first half of \n",
    "#this century and the majority of the world did not really have big machines and factories. For easier visualization, I \n",
    "#divided the values that were too huge, by 3, so smaller values are visible too."
   ]
  },
  {
   "cell_type": "code",
   "execution_count": 36,
   "metadata": {},
   "outputs": [
    {
     "data": {
      "text/plain": [
       "<matplotlib.axes._subplots.AxesSubplot at 0x79c5f50>"
      ]
     },
     "execution_count": 36,
     "metadata": {},
     "output_type": "execute_result"
    },
    {
     "data": {
      "image/png": "[encoded data removed]",
      "text/plain": [
       "<Figure size 864x432 with 1 Axes>"
      ]
     },
     "metadata": {
      "needs_background": "light"
     },
     "output_type": "display_data"
    }
   ],
   "source": [
    "century_19th.tail(30).plot(kind = 'bar', x = 'Country', y = '1801-1900', color = 'blue', figsize = (12,6))"
   ]
  },
  {
   "cell_type": "code",
   "execution_count": 37,
   "metadata": {},
   "outputs": [],
   "source": [
    "#Evidently, 2 centuries ago many countries did not have any sort of technology that caused GHG emissions, the ones that did\n",
    "#were mostly around Europe and the United States."
   ]
  },
  {
   "cell_type": "markdown",
   "metadata": {},
   "source": [
    "#### 6. Inspecting the 18th Century "
   ]
  },
  {
   "cell_type": "code",
   "execution_count": 38,
   "metadata": {},
   "outputs": [],
   "source": [
    "century_18th = pd.DataFrame(greenhouse, columns = ['Country', '1751-1800'])"
   ]
  },
  {
   "cell_type": "code",
   "execution_count": 39,
   "metadata": {},
   "outputs": [],
   "source": [
    "century_18th = century_18th.sort_values('1751-1800', ascending = False)"
   ]
  },
  {
   "cell_type": "code",
   "execution_count": 40,
   "metadata": {},
   "outputs": [
    {
     "data": {
      "text/html": [
       "<div>\n",
       "<style scoped>\n",
       "    .dataframe tbody tr th:only-of-type {\n",
       "        vertical-align: middle;\n",
       "    }\n",
       "\n",
       "    .dataframe tbody tr th {\n",
       "        vertical-align: top;\n",
       "    }\n",
       "\n",
       "    .dataframe thead th {\n",
       "        text-align: right;\n",
       "    }\n",
       "</style>\n",
       "<table border=\"1\" class=\"dataframe\">\n",
       "  <thead>\n",
       "    <tr style=\"text-align: right;\">\n",
       "      <th></th>\n",
       "      <th>Country</th>\n",
       "      <th>1751-1800</th>\n",
       "    </tr>\n",
       "  </thead>\n",
       "  <tbody>\n",
       "    <tr>\n",
       "      <td>227</td>\n",
       "      <td>World</td>\n",
       "      <td>15374008432</td>\n",
       "    </tr>\n",
       "    <tr>\n",
       "      <td>64</td>\n",
       "      <td>EU-28</td>\n",
       "      <td>15373568752</td>\n",
       "    </tr>\n",
       "    <tr>\n",
       "      <td>219</td>\n",
       "      <td>United Kingdom</td>\n",
       "      <td>15355996208</td>\n",
       "    </tr>\n",
       "    <tr>\n",
       "      <td>83</td>\n",
       "      <td>Germany</td>\n",
       "      <td>17572544</td>\n",
       "    </tr>\n",
       "    <tr>\n",
       "      <td>39</td>\n",
       "      <td>Canada</td>\n",
       "      <td>439680</td>\n",
       "    </tr>\n",
       "    <tr>\n",
       "      <td>...</td>\n",
       "      <td>...</td>\n",
       "      <td>...</td>\n",
       "    </tr>\n",
       "    <tr>\n",
       "      <td>82</td>\n",
       "      <td>Georgia</td>\n",
       "      <td>0</td>\n",
       "    </tr>\n",
       "    <tr>\n",
       "      <td>84</td>\n",
       "      <td>Ghana</td>\n",
       "      <td>0</td>\n",
       "    </tr>\n",
       "    <tr>\n",
       "      <td>85</td>\n",
       "      <td>Gibraltar</td>\n",
       "      <td>0</td>\n",
       "    </tr>\n",
       "    <tr>\n",
       "      <td>86</td>\n",
       "      <td>Greece</td>\n",
       "      <td>0</td>\n",
       "    </tr>\n",
       "    <tr>\n",
       "      <td>230</td>\n",
       "      <td>Zimbabwe</td>\n",
       "      <td>0</td>\n",
       "    </tr>\n",
       "  </tbody>\n",
       "</table>\n",
       "<p>231 rows × 2 columns</p>\n",
       "</div>"
      ],
      "text/plain": [
       "            Country    1751-1800\n",
       "227           World  15374008432\n",
       "64            EU-28  15373568752\n",
       "219  United Kingdom  15355996208\n",
       "83          Germany     17572544\n",
       "39           Canada       439680\n",
       "..              ...          ...\n",
       "82          Georgia            0\n",
       "84            Ghana            0\n",
       "85        Gibraltar            0\n",
       "86           Greece            0\n",
       "230        Zimbabwe            0\n",
       "\n",
       "[231 rows x 2 columns]"
      ]
     },
     "execution_count": 40,
     "metadata": {},
     "output_type": "execute_result"
    }
   ],
   "source": [
    "century_18th"
   ]
  },
  {
   "cell_type": "code",
   "execution_count": 41,
   "metadata": {},
   "outputs": [],
   "source": [
    "century_18th['1751-1800'] = np.where((century_18th['1751-1800'] > 10000000000), century_18th['1751-1800']/700, century_18th['1751-1800'])\n",
    "#I am dividing the values that are too high, by 700, so they don't make all the other much smaller values not visible."
   ]
  },
  {
   "cell_type": "code",
   "execution_count": 42,
   "metadata": {},
   "outputs": [
    {
     "data": {
      "text/plain": [
       "<matplotlib.axes._subplots.AxesSubplot at 0x7d7a450>"
      ]
     },
     "execution_count": 42,
     "metadata": {},
     "output_type": "execute_result"
    },
    {
     "data": {
      "image/png": "[encoded data removed]",
      "text/plain": [
       "<Figure size 864x432 with 1 Axes>"
      ]
     },
     "metadata": {
      "needs_background": "light"
     },
     "output_type": "display_data"
    }
   ],
   "source": [
    "century_18th[1:11].plot(kind = 'bar', x = 'Country', y = '1751-1800', color = 'gold', figsize = (12,6))"
   ]
  },
  {
   "cell_type": "code",
   "execution_count": 43,
   "metadata": {},
   "outputs": [],
   "source": [
    "#For the sake of completion, I inspected the 2nd half of 18th century too. The results were not entirely unexpected.\n",
    "#Around those times, not even most countries in Europe had any \"modern\" technology, except for the United Kingdom, which \n",
    "#makes up the majority of the world's GHG emission by far. To make the chart more easy to visualize and inspect, I have \n",
    "#divided the values of EU-28 and the UK by 700, this way, the countries with much lower emission are visible too."
   ]
  },
  {
   "cell_type": "markdown",
   "metadata": {},
   "source": [
    "#### 7. Checking Out Different Parts of the 21st Century"
   ]
  },
  {
   "cell_type": "code",
   "execution_count": 44,
   "metadata": {},
   "outputs": [],
   "source": [
    "greenhouse['2001-2006'] = greenhouse.iloc[:,251:256].sum(axis=1) #1st 5 years of the 21st century"
   ]
  },
  {
   "cell_type": "code",
   "execution_count": 45,
   "metadata": {},
   "outputs": [],
   "source": [
    "century_21st_a = pd.DataFrame(greenhouse, columns = ['Country', '2001-2006'])"
   ]
  },
  {
   "cell_type": "code",
   "execution_count": 46,
   "metadata": {},
   "outputs": [],
   "source": [
    "century_21st_a = century_21st_a.sort_values('2001-2006', ascending = False)"
   ]
  },
  {
   "cell_type": "code",
   "execution_count": 47,
   "metadata": {},
   "outputs": [
    {
     "data": {
      "text/html": [
       "<div>\n",
       "<style scoped>\n",
       "    .dataframe tbody tr th:only-of-type {\n",
       "        vertical-align: middle;\n",
       "    }\n",
       "\n",
       "    .dataframe tbody tr th {\n",
       "        vertical-align: top;\n",
       "    }\n",
       "\n",
       "    .dataframe thead th {\n",
       "        text-align: right;\n",
       "    }\n",
       "</style>\n",
       "<table border=\"1\" class=\"dataframe\">\n",
       "  <thead>\n",
       "    <tr style=\"text-align: right;\">\n",
       "      <th></th>\n",
       "      <th>Country</th>\n",
       "      <th>2001-2006</th>\n",
       "    </tr>\n",
       "  </thead>\n",
       "  <tbody>\n",
       "    <tr>\n",
       "      <td>227</td>\n",
       "      <td>World</td>\n",
       "      <td>5.570000e+12</td>\n",
       "    </tr>\n",
       "    <tr>\n",
       "      <td>220</td>\n",
       "      <td>United States</td>\n",
       "      <td>1.600000e+12</td>\n",
       "    </tr>\n",
       "    <tr>\n",
       "      <td>64</td>\n",
       "      <td>EU-28</td>\n",
       "      <td>1.492000e+12</td>\n",
       "    </tr>\n",
       "    <tr>\n",
       "      <td>72</td>\n",
       "      <td>Europe (other)</td>\n",
       "      <td>6.350000e+11</td>\n",
       "    </tr>\n",
       "    <tr>\n",
       "      <td>13</td>\n",
       "      <td>Asia and Pacific (other)</td>\n",
       "      <td>5.700000e+11</td>\n",
       "    </tr>\n",
       "    <tr>\n",
       "      <td>...</td>\n",
       "      <td>...</td>\n",
       "      <td>...</td>\n",
       "    </tr>\n",
       "    <tr>\n",
       "      <td>8</td>\n",
       "      <td>Antarctic Fisheries</td>\n",
       "      <td>6.155520e+05</td>\n",
       "    </tr>\n",
       "    <tr>\n",
       "      <td>215</td>\n",
       "      <td>Tuvalu</td>\n",
       "      <td>5.496000e+05</td>\n",
       "    </tr>\n",
       "    <tr>\n",
       "      <td>226</td>\n",
       "      <td>Wallis and Futuna Islands</td>\n",
       "      <td>3.334240e+05</td>\n",
       "    </tr>\n",
       "    <tr>\n",
       "      <td>121</td>\n",
       "      <td>Liechtenstein</td>\n",
       "      <td>0.000000e+00</td>\n",
       "    </tr>\n",
       "    <tr>\n",
       "      <td>113</td>\n",
       "      <td>Kyrgysztan</td>\n",
       "      <td>0.000000e+00</td>\n",
       "    </tr>\n",
       "  </tbody>\n",
       "</table>\n",
       "<p>231 rows × 2 columns</p>\n",
       "</div>"
      ],
      "text/plain": [
       "                       Country     2001-2006\n",
       "227                      World  5.570000e+12\n",
       "220              United States  1.600000e+12\n",
       "64                       EU-28  1.492000e+12\n",
       "72              Europe (other)  6.350000e+11\n",
       "13    Asia and Pacific (other)  5.700000e+11\n",
       "..                         ...           ...\n",
       "8          Antarctic Fisheries  6.155520e+05\n",
       "215                     Tuvalu  5.496000e+05\n",
       "226  Wallis and Futuna Islands  3.334240e+05\n",
       "121              Liechtenstein  0.000000e+00\n",
       "113                 Kyrgysztan  0.000000e+00\n",
       "\n",
       "[231 rows x 2 columns]"
      ]
     },
     "execution_count": 47,
     "metadata": {},
     "output_type": "execute_result"
    }
   ],
   "source": [
    "century_21st_a"
   ]
  },
  {
   "cell_type": "code",
   "execution_count": 48,
   "metadata": {},
   "outputs": [],
   "source": [
    "greenhouse['2007-2012'] = greenhouse.iloc[:,257:262].sum(axis=1) #2nd 5 years of the 21st century"
   ]
  },
  {
   "cell_type": "code",
   "execution_count": 49,
   "metadata": {},
   "outputs": [],
   "source": [
    "century_21st_b = pd.DataFrame(greenhouse, columns = ['Country', '2007-2012'])"
   ]
  },
  {
   "cell_type": "code",
   "execution_count": 50,
   "metadata": {},
   "outputs": [],
   "source": [
    "century_21st_b = century_21st_b.sort_values('2007-2012', ascending = False)"
   ]
  },
  {
   "cell_type": "code",
   "execution_count": 51,
   "metadata": {},
   "outputs": [
    {
     "data": {
      "text/html": [
       "<div>\n",
       "<style scoped>\n",
       "    .dataframe tbody tr th:only-of-type {\n",
       "        vertical-align: middle;\n",
       "    }\n",
       "\n",
       "    .dataframe tbody tr th {\n",
       "        vertical-align: top;\n",
       "    }\n",
       "\n",
       "    .dataframe thead th {\n",
       "        text-align: right;\n",
       "    }\n",
       "</style>\n",
       "<table border=\"1\" class=\"dataframe\">\n",
       "  <thead>\n",
       "    <tr style=\"text-align: right;\">\n",
       "      <th></th>\n",
       "      <th>Country</th>\n",
       "      <th>2007-2012</th>\n",
       "    </tr>\n",
       "  </thead>\n",
       "  <tbody>\n",
       "    <tr>\n",
       "      <td>227</td>\n",
       "      <td>World</td>\n",
       "      <td>6.470000e+12</td>\n",
       "    </tr>\n",
       "    <tr>\n",
       "      <td>220</td>\n",
       "      <td>United States</td>\n",
       "      <td>1.778000e+12</td>\n",
       "    </tr>\n",
       "    <tr>\n",
       "      <td>64</td>\n",
       "      <td>EU-28</td>\n",
       "      <td>1.619000e+12</td>\n",
       "    </tr>\n",
       "    <tr>\n",
       "      <td>72</td>\n",
       "      <td>Europe (other)</td>\n",
       "      <td>7.000000e+11</td>\n",
       "    </tr>\n",
       "    <tr>\n",
       "      <td>13</td>\n",
       "      <td>Asia and Pacific (other)</td>\n",
       "      <td>6.980000e+11</td>\n",
       "    </tr>\n",
       "    <tr>\n",
       "      <td>...</td>\n",
       "      <td>...</td>\n",
       "      <td>...</td>\n",
       "    </tr>\n",
       "    <tr>\n",
       "      <td>226</td>\n",
       "      <td>Wallis and Futuna Islands</td>\n",
       "      <td>1.157824e+06</td>\n",
       "    </tr>\n",
       "    <tr>\n",
       "      <td>155</td>\n",
       "      <td>Niue</td>\n",
       "      <td>9.892800e+05</td>\n",
       "    </tr>\n",
       "    <tr>\n",
       "      <td>215</td>\n",
       "      <td>Tuvalu</td>\n",
       "      <td>8.500480e+05</td>\n",
       "    </tr>\n",
       "    <tr>\n",
       "      <td>8</td>\n",
       "      <td>Antarctic Fisheries</td>\n",
       "      <td>7.694400e+05</td>\n",
       "    </tr>\n",
       "    <tr>\n",
       "      <td>113</td>\n",
       "      <td>Kyrgysztan</td>\n",
       "      <td>0.000000e+00</td>\n",
       "    </tr>\n",
       "  </tbody>\n",
       "</table>\n",
       "<p>231 rows × 2 columns</p>\n",
       "</div>"
      ],
      "text/plain": [
       "                       Country     2007-2012\n",
       "227                      World  6.470000e+12\n",
       "220              United States  1.778000e+12\n",
       "64                       EU-28  1.619000e+12\n",
       "72              Europe (other)  7.000000e+11\n",
       "13    Asia and Pacific (other)  6.980000e+11\n",
       "..                         ...           ...\n",
       "226  Wallis and Futuna Islands  1.157824e+06\n",
       "155                       Niue  9.892800e+05\n",
       "215                     Tuvalu  8.500480e+05\n",
       "8          Antarctic Fisheries  7.694400e+05\n",
       "113                 Kyrgysztan  0.000000e+00\n",
       "\n",
       "[231 rows x 2 columns]"
      ]
     },
     "execution_count": 51,
     "metadata": {},
     "output_type": "execute_result"
    }
   ],
   "source": [
    "century_21st_b"
   ]
  },
  {
   "cell_type": "code",
   "execution_count": 52,
   "metadata": {},
   "outputs": [],
   "source": [
    "greenhouse['2012-2017'] = greenhouse.iloc[:,263:267].sum(axis=1) #Last 4 years of the 21st century"
   ]
  },
  {
   "cell_type": "code",
   "execution_count": 53,
   "metadata": {},
   "outputs": [],
   "source": [
    "century_21st_c = pd.DataFrame(greenhouse, columns = ['Country', '2012-2017'])"
   ]
  },
  {
   "cell_type": "code",
   "execution_count": 54,
   "metadata": {},
   "outputs": [],
   "source": [
    "century_21st_c = century_21st_c.sort_values('2012-2017', ascending = False)"
   ]
  },
  {
   "cell_type": "code",
   "execution_count": 55,
   "metadata": {},
   "outputs": [
    {
     "data": {
      "text/html": [
       "<div>\n",
       "<style scoped>\n",
       "    .dataframe tbody tr th:only-of-type {\n",
       "        vertical-align: middle;\n",
       "    }\n",
       "\n",
       "    .dataframe tbody tr th {\n",
       "        vertical-align: top;\n",
       "    }\n",
       "\n",
       "    .dataframe thead th {\n",
       "        text-align: right;\n",
       "    }\n",
       "</style>\n",
       "<table border=\"1\" class=\"dataframe\">\n",
       "  <thead>\n",
       "    <tr style=\"text-align: right;\">\n",
       "      <th></th>\n",
       "      <th>Country</th>\n",
       "      <th>2012-2017</th>\n",
       "    </tr>\n",
       "  </thead>\n",
       "  <tbody>\n",
       "    <tr>\n",
       "      <td>227</td>\n",
       "      <td>World</td>\n",
       "      <td>5.940000e+12</td>\n",
       "    </tr>\n",
       "    <tr>\n",
       "      <td>220</td>\n",
       "      <td>United States</td>\n",
       "      <td>1.544000e+12</td>\n",
       "    </tr>\n",
       "    <tr>\n",
       "      <td>64</td>\n",
       "      <td>EU-28</td>\n",
       "      <td>1.376000e+12</td>\n",
       "    </tr>\n",
       "    <tr>\n",
       "      <td>45</td>\n",
       "      <td>China</td>\n",
       "      <td>7.030000e+11</td>\n",
       "    </tr>\n",
       "    <tr>\n",
       "      <td>13</td>\n",
       "      <td>Asia and Pacific (other)</td>\n",
       "      <td>6.620000e+11</td>\n",
       "    </tr>\n",
       "    <tr>\n",
       "      <td>...</td>\n",
       "      <td>...</td>\n",
       "      <td>...</td>\n",
       "    </tr>\n",
       "    <tr>\n",
       "      <td>174</td>\n",
       "      <td>Saint Helena</td>\n",
       "      <td>1.269416e+06</td>\n",
       "    </tr>\n",
       "    <tr>\n",
       "      <td>155</td>\n",
       "      <td>Niue</td>\n",
       "      <td>9.631150e+05</td>\n",
       "    </tr>\n",
       "    <tr>\n",
       "      <td>215</td>\n",
       "      <td>Tuvalu</td>\n",
       "      <td>9.044910e+05</td>\n",
       "    </tr>\n",
       "    <tr>\n",
       "      <td>8</td>\n",
       "      <td>Antarctic Fisheries</td>\n",
       "      <td>6.155520e+05</td>\n",
       "    </tr>\n",
       "    <tr>\n",
       "      <td>113</td>\n",
       "      <td>Kyrgysztan</td>\n",
       "      <td>0.000000e+00</td>\n",
       "    </tr>\n",
       "  </tbody>\n",
       "</table>\n",
       "<p>231 rows × 2 columns</p>\n",
       "</div>"
      ],
      "text/plain": [
       "                      Country     2012-2017\n",
       "227                     World  5.940000e+12\n",
       "220             United States  1.544000e+12\n",
       "64                      EU-28  1.376000e+12\n",
       "45                      China  7.030000e+11\n",
       "13   Asia and Pacific (other)  6.620000e+11\n",
       "..                        ...           ...\n",
       "174              Saint Helena  1.269416e+06\n",
       "155                      Niue  9.631150e+05\n",
       "215                    Tuvalu  9.044910e+05\n",
       "8         Antarctic Fisheries  6.155520e+05\n",
       "113                Kyrgysztan  0.000000e+00\n",
       "\n",
       "[231 rows x 2 columns]"
      ]
     },
     "execution_count": 55,
     "metadata": {},
     "output_type": "execute_result"
    }
   ],
   "source": [
    "century_21st_c"
   ]
  },
  {
   "cell_type": "code",
   "execution_count": 56,
   "metadata": {},
   "outputs": [
    {
     "data": {
      "text/plain": [
       "<matplotlib.axes._subplots.AxesSubplot at 0x7dc1d70>"
      ]
     },
     "execution_count": 56,
     "metadata": {},
     "output_type": "execute_result"
    },
    {
     "data": {
      "image/png": "[encoded data removed]",
      "text/plain": [
       "<Figure size 864x432 with 1 Axes>"
      ]
     },
     "metadata": {
      "needs_background": "light"
     },
     "output_type": "display_data"
    }
   ],
   "source": [
    "century_21st_a[1:11].plot(kind = 'bar', x = 'Country', y = '2001-2006', color = 'aqua', figsize = (12,6))"
   ]
  },
  {
   "cell_type": "code",
   "execution_count": 57,
   "metadata": {},
   "outputs": [
    {
     "data": {
      "text/plain": [
       "<matplotlib.axes._subplots.AxesSubplot at 0x7dc8a30>"
      ]
     },
     "execution_count": 57,
     "metadata": {},
     "output_type": "execute_result"
    },
    {
     "data": {
      "image/png": "[encoded data removed]",
      "text/plain": [
       "<Figure size 864x432 with 1 Axes>"
      ]
     },
     "metadata": {
      "needs_background": "light"
     },
     "output_type": "display_data"
    }
   ],
   "source": [
    "century_21st_b[1:11].plot(kind = 'bar', x = 'Country', y = '2007-2012', color = 'crimson', figsize = (12,6))"
   ]
  },
  {
   "cell_type": "code",
   "execution_count": 58,
   "metadata": {},
   "outputs": [
    {
     "data": {
      "text/plain": [
       "<matplotlib.axes._subplots.AxesSubplot at 0x7dfed50>"
      ]
     },
     "execution_count": 58,
     "metadata": {},
     "output_type": "execute_result"
    },
    {
     "data": {
      "image/png": "[encoded data removed]",
      "text/plain": [
       "<Figure size 864x432 with 1 Axes>"
      ]
     },
     "metadata": {
      "needs_background": "light"
     },
     "output_type": "display_data"
    }
   ],
   "source": [
    "century_21st_c[1:11].plot(kind = 'bar', x = 'Country', y = '2012-2017', color = 'lime', figsize = (12,6))"
   ]
  },
  {
   "cell_type": "code",
   "execution_count": 59,
   "metadata": {},
   "outputs": [],
   "source": [
    "#The last 3 charts are taking a more detailed look at 3 intervals of the 21st century. The data is mostly consistent, with \n",
    "#relatively the same countries showing up on the top 10 list with minor changes. It looks like between 2007-2012 the \n",
    "#emission values were higher than in the years coming after. This indicates that GHG emission-wise, the world started doing \n",
    "#better in the after-2012 years."
   ]
  }
 ],
 "metadata": {
  "kernelspec": {
   "display_name": "Python 3",
   "language": "python",
   "name": "python3"
  },
  "language_info": {
   "codemirror_mode": {
    "name": "ipython",
    "version": 3
   },
   "file_extension": ".py",
   "mimetype": "text/x-python",
   "name": "python",
   "nbconvert_exporter": "python",
   "pygments_lexer": "ipython3",
   "version": "3.7.4"
  }
 },
 "nbformat": 4,
 "nbformat_minor": 2
}
